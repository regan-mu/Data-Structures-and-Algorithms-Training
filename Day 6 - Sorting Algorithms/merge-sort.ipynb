{
 "cells": [
  {
   "cell_type": "markdown",
   "metadata": {},
   "source": [
    "# Sorting Algorithms\n",
    "\n",
    "* Sorting algorithms are a fundamental concept in computer science and data processing, used to arrange a collection of elements or data items in a specific order, typically ascending or descending. \n",
    "\n",
    "* There are various sorting algorithms, each with its own approach and efficiency characteristics. \n",
    "* In this class we'll discuss the **merge sort** algorithm and analyze it's complexity."
   ]
  },
  {
   "cell_type": "markdown",
   "metadata": {},
   "source": [
    "## Merge sort Algorithm\n",
    "\n",
    "* Merge sort is a popular and efficient comparison-based sorting algorithm that uses a divide-and-conquer approach to sort an array or list of elements. \n",
    "* It was developed by John von Neumann in 1945 and is known for its stable and predictable performance. \n",
    "* Merge sort is often the sorting algorithm of choice when a stable, reliable, and consistently efficient sorting method is needed."
   ]
  },
  {
   "cell_type": "markdown",
   "metadata": {},
   "source": [
    "#### Here are the main steps of the merge sort algorithm:\n",
    "\n",
    "* **Divide:** Divide the unsorted list into two (or more) equal-sized sublists. This is typically done by finding the middle point of the list.\n",
    "* **Conquer:** Recursively sort each sublist. If a sublist has only one element, it is considered sorted by definition.\n",
    "* **Merge:** Merge the sorted sublists to produce a single sorted list. This is done by repeatedly comparing the smallest (or largest) element from each sublist and adding it to the final merged list until all elements are included.\n",
    "* Repeat steps 1-3 until the entire list is sorted.\n",
    "\n",
    "\n",
    "\n",
    "![merges-sort](./images/mergesort.png)"
   ]
  },
  {
   "cell_type": "code",
   "execution_count": null,
   "metadata": {},
   "outputs": [],
   "source": []
  },
  {
   "cell_type": "markdown",
   "metadata": {},
   "source": [
    "#### Inorder to better undestand the Merge Sort, we are going to first look at how we can merge to sorted arrays."
   ]
  },
  {
   "cell_type": "code",
   "execution_count": null,
   "metadata": {},
   "outputs": [],
   "source": []
  },
  {
   "cell_type": "code",
   "execution_count": 8,
   "metadata": {},
   "outputs": [
    {
     "data": {
      "text/plain": [
       "[4, 5, 7, 8, 9, 10, 14, 15, 16, 17]"
      ]
     },
     "execution_count": 8,
     "metadata": {},
     "output_type": "execute_result"
    }
   ],
   "source": [
    "array1 = [4, 7, 9, 15, 16]\n",
    "array2 = [5, 8, 10, 14, 17]\n",
    "\n",
    "def merge(arr1, arr2):\n",
    "    left = 0\n",
    "    right = 0\n",
    "    merged_array = []\n",
    "    while left < len(arr1) and right < len(arr2):\n",
    "        if arr1[left] < arr2[right]:\n",
    "            merged_array.append(arr1[left])\n",
    "            left += 1\n",
    "        elif arr1[left] > arr2[right]:\n",
    "            merged_array.append(arr2[right])\n",
    "            right += 1\n",
    "    merged_array.extend(arr1[left:])\n",
    "    merged_array.extend(arr2[right:])\n",
    "    return merged_array\n",
    "\n",
    "merge(array1, array2)"
   ]
  },
  {
   "cell_type": "code",
   "execution_count": null,
   "metadata": {},
   "outputs": [],
   "source": []
  },
  {
   "cell_type": "markdown",
   "metadata": {},
   "source": [
    "#### Merge & Sort"
   ]
  },
  {
   "cell_type": "code",
   "execution_count": 10,
   "metadata": {},
   "outputs": [
    {
     "data": {
      "text/plain": [
       "[3, 4, 5, 6, 7, 8, 9, 11]"
      ]
     },
     "execution_count": 10,
     "metadata": {},
     "output_type": "execute_result"
    }
   ],
   "source": [
    "def merge_sort(array):\n",
    "    if len(array) <= 1:\n",
    "        return array\n",
    "    mid = len(array) // 2\n",
    "    left_array = array[:mid]\n",
    "    right_array = array[mid:]\n",
    "\n",
    "    left_sorted = merge_sort(left_array)\n",
    "    right_sorted = merge_sort(right_array)\n",
    "\n",
    "    sorted_array = merge(left_sorted, right_sorted)\n",
    "    \n",
    "    return sorted_array\n",
    "\n",
    "merge_sort([8,3,7,11,4,5,9,6])"
   ]
  },
  {
   "cell_type": "code",
   "execution_count": null,
   "metadata": {},
   "outputs": [],
   "source": []
  },
  {
   "cell_type": "markdown",
   "metadata": {},
   "source": [
    "### Analysis of Merge Sort Complexity"
   ]
  },
  {
   "cell_type": "markdown",
   "metadata": {},
   "source": [
    "#### Fact:\n",
    "\n",
    "* Merge Sort has **linearithmic O(nlog n)** time complexity.\n",
    "\n",
    "#### Proof:\n",
    "\n",
    "* Let's start by thinking about about 3 parts of **divide and conquer** and their running times.\n",
    "\n",
    "\n",
    "> \n",
    "> 1. The divide step takes **constant time O(1)** since we already know the index where we are going divide at.\n",
    ">\n",
    "> 2. The conquer step, where we recursively sort two subarrays of approximately n/2 elements.\n",
    "> 3. The combine step merges a total of n element talking **O(n)** time. <br>\n",
    "> \n",
    "\n",
    "* If we think about the **divide** and **combine** steps together, the divide take O(1) time and the combine takes O(n).\n",
    "* Taking the higher order term, we can think of both steps as taking **O(n)** time.\n",
    "* For simplicity purposes, assume that the divide and combine steps take **cn** time where c is a constant and that if **n > 1**, n is always even.\n",
    "\n",
    "* Let's think of running the merge sort on an **n-element** subarray as being the sum of twice the running time of the mergesort on an **n/2-element** subarray.\n",
    "\n",
    "![complexity-1](./images/mergesort-complexity-1.png)\n",
    "\n",
    "* As the subproblems get smaller, the number of subproblems doubles at each \"level\" of the recursion, but the merging time halves.\n",
    "\n",
    "* The doubling and halving cancel each other out, and so the total merging time is **cn** at each level of recursion.\n",
    "* Eventually, we get down to subproblems of size 1: the **base case**, we spend **Θ(1)** time to sort subarrays of size 1\n",
    "* Now the **total running time** is equal to the total time of taken in each level.\n",
    "* If there are ***l*** levels in the tree, then the total merging time is ***l.cn***\n",
    "* In our example, ***l*** = 4 when **n** = 8, therefore **l = log(n) + 1**.\n",
    "* **cn(log(n) + 1)** = **cnlog(n) + cn**.\n",
    "* Drop the lower order term **cn**, we are left with **cnlog(n)**.\n",
    "* Drop the constant, **c** were are left with **nlog(n)**.\n",
    "* Therefore, the time complexity of **merge sort** algorithm is **O(nlog n)**.\n"
   ]
  },
  {
   "cell_type": "markdown",
   "metadata": {},
   "source": [
    "## Thank You\n",
    "# END"
   ]
  }
 ],
 "metadata": {
  "kernelspec": {
   "display_name": "base",
   "language": "python",
   "name": "python3"
  },
  "language_info": {
   "codemirror_mode": {
    "name": "ipython",
    "version": 3
   },
   "file_extension": ".py",
   "mimetype": "text/x-python",
   "name": "python",
   "nbconvert_exporter": "python",
   "pygments_lexer": "ipython3",
   "version": "3.9.13"
  },
  "orig_nbformat": 4
 },
 "nbformat": 4,
 "nbformat_minor": 2
}
