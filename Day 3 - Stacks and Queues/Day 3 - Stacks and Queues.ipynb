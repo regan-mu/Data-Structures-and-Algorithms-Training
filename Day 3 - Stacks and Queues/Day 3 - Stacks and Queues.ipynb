{
 "cells": [
  {
   "cell_type": "markdown",
   "metadata": {},
   "source": [
    "# Stacks and Queues"
   ]
  },
  {
   "cell_type": "markdown",
   "metadata": {},
   "source": [
    "## 1. Stacks\n",
    "* A stack is a linear data structure that follows the **LIFO** principle.\n",
    "* **LIFO** - Last IN First Out.\n",
    "* This mean that the first item added into the stack is the first to be removed. e.g\n",
    "\n",
    "![chairs](./Images/chairs.jpg)\n",
    "\n",
    "* The chair at the top of the stack will be the first to be removed."
   ]
  },
  {
   "cell_type": "markdown",
   "metadata": {},
   "source": [
    "### Operations Associated with Stacks\n",
    "* **Push** - Adding an element to the top of the stack.\n",
    "\n",
    "* **Pop** - Remove the top element from the stack.\n",
    "* **Peek** - Checking the element at the top of the stack without removing it.\n",
    "* **Empty** - Check if the stack is empty.\n",
    "* **Size** - Number of elements in the stack.\n",
    "\n",
    "![stack](./Images/stack.webp)"
   ]
  },
  {
   "cell_type": "markdown",
   "metadata": {},
   "source": [
    "### Common Applications of Stacks\n",
    "1. **Function call stacks in programming languages.**\n",
    "\n",
    "2. **Undo/Redo Operations.**\n"
   ]
  },
  {
   "cell_type": "markdown",
   "metadata": {},
   "source": [
    "* The simplicity & efficiency of stacks make them a fundamental data structure for solving various problems in programming.\n",
    "\n",
    "* For python, we can implement stacks using:\n",
    "    * List.\n",
    "    * collections.deque\n",
    "    * queue.LifoQueue"
   ]
  },
  {
   "cell_type": "markdown",
   "metadata": {},
   "source": []
  },
  {
   "cell_type": "markdown",
   "metadata": {},
   "source": [
    "### Implementing a Stack with collections.deque"
   ]
  },
  {
   "cell_type": "code",
   "execution_count": null,
   "metadata": {},
   "outputs": [],
   "source": [
    "from collections import deque\n",
    "\n",
    "class Stack:\n",
    "    \"\"\"Python Stack\"\"\"\n",
    "    def __init__(self):\n",
    "        self.container = deque()\n",
    "\n",
    "    def push(self, element):\n",
    "        \"\"\"\n",
    "            Add an element to the top of the stack\n",
    "            :param element : Element to be pushed.\n",
    "            :return :\n",
    "        \"\"\"\n",
    "        self.container.append(element)\n",
    "\n",
    "    def pop(self):\n",
    "        \"\"\"\n",
    "            Remove an element from the top of the stack\n",
    "        \"\"\"\n",
    "        return self.container.pop()\n",
    "    \n",
    "    def peek(self):\n",
    "        \"\"\"\n",
    "            Check the last element without removing\n",
    "            :return: The top element.\n",
    "        \"\"\"\n",
    "        return self.container[-1]\n",
    "\n",
    "    def is_empty(self):\n",
    "        \"\"\"\n",
    "            Check the if the stack is empty.\n",
    "            :return: True if it's empty False otherwise\n",
    "        \"\"\"\n",
    "        return len(self.container) == 0\n",
    "\n",
    "    def size(self):\n",
    "        \"\"\"\n",
    "            Check the size/number of elements in the stack.\n",
    "            :return: Stack size (int)\n",
    "        \"\"\"\n",
    "        return len(self.container)"
   ]
  },
  {
   "cell_type": "markdown",
   "metadata": {},
   "source": [
    "### Complexity Analysis\n",
    "* Push - **O(1)**.\n",
    "\n",
    "* Pop - **O(1)**.\n",
    "* Peek - **O(1)**"
   ]
  },
  {
   "cell_type": "markdown",
   "metadata": {},
   "source": [
    "### Task\n",
    "* Write a python function that checks if parenthesis in the string are balanced or not.\n",
    "\n",
    "* Possible parantheses are \"{}',\"()\" or \"[]\".\n",
    "\n",
    "* The function should return True if the parenthesis are balanced, otherwise returns False."
   ]
  },
  {
   "cell_type": "markdown",
   "metadata": {},
   "source": []
  },
  {
   "cell_type": "markdown",
   "metadata": {},
   "source": [
    "## 2. Queues\n",
    "\n",
    "* A queue is a data linear data structure that follows the **FIFO** principle.\n",
    "* **FIFO** - First In First Out\n",
    "* The first element into the queue is the first out.\n",
    "\n",
    "![queue](./Images/queue.jpg)\n",
    "\n",
    "* Its like a queue in the supermarket, the first person in the queue is served first."
   ]
  },
  {
   "cell_type": "markdown",
   "metadata": {},
   "source": [
    "### Operations Associated with Queues\n",
    "\n",
    "* **Enqueue** - Adding an element to the rear end of the queue.\n",
    "* **dequeue** - Removing an element from the front of the queue.\n",
    "* **Front/Peek** - Check the element at the front of the queue without removing it.\n",
    "* **Rear** - Check the element at the rear end of the queue without removing it.\n",
    "* **Empty** - A queue is considered empty when it contains no elements.\n",
    "* **size** - The number of elements in the queue.\n",
    "\n",
    "![queue](./Images/queue-structure.png)"
   ]
  },
  {
   "cell_type": "markdown",
   "metadata": {},
   "source": [
    "### Common applications of Queues.\n",
    "* Task Scheduling.\n",
    "* Job Queues."
   ]
  },
  {
   "cell_type": "markdown",
   "metadata": {},
   "source": []
  },
  {
   "cell_type": "markdown",
   "metadata": {},
   "source": [
    "### Implementing a Queue in Python."
   ]
  },
  {
   "cell_type": "code",
   "execution_count": null,
   "metadata": {},
   "outputs": [],
   "source": [
    "class Queue():\n",
    "    \"\"\"Python Queue\"\"\"\n",
    "    def __init__(self):\n",
    "        self.container = deque()\n",
    "    \n",
    "    def enqueue(self, element):\n",
    "        \"\"\"\n",
    "            Add an element to the rear end of the queue.\n",
    "            :param element: The element to add to the end.\n",
    "        \"\"\"\n",
    "        self.container.appendleft(element)\n",
    "\n",
    "    def dequeue(self):\n",
    "        \"\"\"\n",
    "            Remove the element in the front of the queue\n",
    "        \"\"\"\n",
    "        self.container.pop()\n",
    "    \n",
    "    def front(self):\n",
    "        \"\"\"\n",
    "            Check the element at the front.\n",
    "        \"\"\"\n",
    "        return self.container[0]\n",
    "\n",
    "    def rear(self):\n",
    "        \"\"\"\n",
    "            Check the element at the rear.\n",
    "        \"\"\"\n",
    "        return self.container[-1]\n",
    "\n",
    "    def is_empty(self):\n",
    "        \"\"\"\n",
    "            Check whether the queue is empty.\n",
    "        \"\"\"\n",
    "        return len(self.container) == 0\n",
    "\n",
    "    def size(self):\n",
    "        \"\"\"\n",
    "            Check the number of elements in a queue.\n",
    "        \"\"\"\n",
    "        return len(self.container)"
   ]
  },
  {
   "cell_type": "markdown",
   "metadata": {},
   "source": [
    "### Complexity Analysis\n",
    "\n",
    "* Enqueue - **O(1)**\n",
    "* Dequeue - **O(1)**\n",
    "* Front/Peek - **O(1)**"
   ]
  },
  {
   "cell_type": "markdown",
   "metadata": {},
   "source": [
    "## Leetcode 1\n",
    "### Two Sum\n",
    "* Given an array of integers nums and an integer target, return indices of the two numbers such that they add up to target.\n",
    "\n",
    "* You may assume that each input would have exactly one solution, and you may not use the same element twice.\n",
    "\n",
    "* You can return the answer in any order."
   ]
  },
  {
   "cell_type": "code",
   "execution_count": null,
   "metadata": {},
   "outputs": [],
   "source": []
  },
  {
   "cell_type": "markdown",
   "metadata": {},
   "source": [
    "### \"Each structure has its unique strengths, and a well-chosen one can make complex tasks feel effortless, while a poorly chosen one can turn simplicity into complexity.\"\n",
    "\n",
    "# END"
   ]
  }
 ],
 "metadata": {
  "language_info": {
   "name": "python"
  },
  "orig_nbformat": 4
 },
 "nbformat": 4,
 "nbformat_minor": 2
}
