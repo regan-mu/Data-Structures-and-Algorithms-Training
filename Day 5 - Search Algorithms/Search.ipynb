{
 "cells": [
  {
   "cell_type": "markdown",
   "metadata": {},
   "source": [
    "# Search Algorithms\n",
    "\n",
    "* Search algorithms are computational techniques used to locate specific items, values, or information within a dataset or data structure.\n",
    "\n",
    "## Topics\n",
    "1. Recursion.\n",
    "\n",
    "2. Linear Search.\n",
    "4. Binary Search."
   ]
  },
  {
   "cell_type": "markdown",
   "metadata": {},
   "source": [
    "## 1. Recursion.\n",
    "\n",
    "* Recursion is a programming technique in which a function calls itself in order to solve a problem. \n",
    "* It's a fundamental concept in computer science and programming and can be used to solve a wide range of problems, especially those that exhibit a recursive structure. \n",
    "* Recursion is often used in situations where a problem can be broken down into smaller, similar subproblems.\n",
    "\n",
    "#### Key concepts of recursion:\n",
    "* **Base Case:** A recursive function must have one or more base cases that specify the simplest, non-recursive cases. These are the stopping conditions that prevent the function from calling itself infinitely. Without base cases, the recursion would result in a stack overflow error.\n",
    "\n",
    "* **Recursive Case:** In addition to the base case(s), a recursive function also has one or more recursive cases. These are the cases where the function calls itself with a modified input, typically a smaller or simpler version of the original problem. The goal is to eventually reach the base case.\n",
    "\n",
    "* **The Call Stack:** When a function calls itself, each invocation of the function is placed on the call stack. The call stack keeps track of the function calls and their parameters. When the base case is reached, the function calls are resolved in reverse order, and the results are combined to solve the original problem"
   ]
  },
  {
   "cell_type": "markdown",
   "metadata": {},
   "source": [
    "#### Example\n",
    "* Recursion can be used to calculate the **factorial (n!)** of a number.\n",
    "* 5! = 5 * 4 * 3 * 2 * 1"
   ]
  },
  {
   "cell_type": "code",
   "execution_count": 1,
   "metadata": {},
   "outputs": [
    {
     "data": {
      "text/plain": [
       "24"
      ]
     },
     "execution_count": 1,
     "metadata": {},
     "output_type": "execute_result"
    }
   ],
   "source": [
    "def factorial(n):\n",
    "    # Base case\n",
    "    if n == 1:\n",
    "        return n\n",
    "    # Recursive case\n",
    "    return n * factorial(n-1)\n",
    "factorial(4)"
   ]
  },
  {
   "cell_type": "code",
   "execution_count": null,
   "metadata": {},
   "outputs": [],
   "source": []
  },
  {
   "cell_type": "markdown",
   "metadata": {},
   "source": [
    "## 2. Linear Search\n",
    "\n",
    "* A linear search algorithm checks each element in a list one by one until the target element is found or the entire list is searched.\n",
    "\n",
    "* Since you will traverse the whole data structure in the worst case, **linear search** has linear time complexity or O(n).\n",
    "* Linear search is simple but not very efficient for large datasets."
   ]
  },
  {
   "cell_type": "code",
   "execution_count": 5,
   "metadata": {},
   "outputs": [
    {
     "data": {
      "text/plain": [
       "False"
      ]
     },
     "execution_count": 5,
     "metadata": {},
     "output_type": "execute_result"
    }
   ],
   "source": [
    "array = [5, 6, 9, 2, 7]\n",
    "# Given the array above check if 2 exists in the array.\n",
    "def find_target(arr, target):\n",
    "    for i in arr:\n",
    "        if i == target:\n",
    "            return True\n",
    "    return False\n",
    "find_target(array, 4)"
   ]
  },
  {
   "cell_type": "code",
   "execution_count": null,
   "metadata": {},
   "outputs": [],
   "source": []
  },
  {
   "cell_type": "markdown",
   "metadata": {},
   "source": [
    "## 3. Binary Search\n",
    "* Binary search is an algorithm used to locate a specific item (the target) within a sorted collection, such as an array or list. \n",
    "* The key advantage of binary search is that it can quickly narrow down the search space by repeatedly dividing the array in half, making it much faster than linear search for large datasets.\n",
    "* It is an essential algorithm, used whenever efficient searching in sorted data is required."
   ]
  },
  {
   "cell_type": "markdown",
   "metadata": {},
   "source": [
    "### Here's how binary search works:\n",
    "\n",
    "1. **Initialization:** Binary search begins by defining a search range, typically the entire collection. Initially, this range covers the entire array.\n",
    "\n",
    "2. **Comparison:** It compares the middle element of the current search range with the target value.\n",
    "\n",
    "    * If the middle element is equal to the target, the search is successful, and its index is returned.\n",
    "    * If the middle element is greater than the target, the search continues in the left half of the range because the target, if present, must be in the left portion.\n",
    "    * If the middle element is less than the target, the search continues in the right half of the range because the target, if present, must be in the right portion.\n",
    "\n",
    "3. **Repeat:** Steps 1 and 2 are repeated until one of the following conditions is met:\n",
    "\n",
    "    * The target is found, and its index is returned.\n",
    "    * The search range is empty, indicating that the target is not in the collection.\n",
    "\n",
    "![binary-search](./images/binary-search.png)\n",
    "\n",
    "* Binary search is particularly efficient because it eliminates half of the remaining search space with each comparison."
   ]
  },
  {
   "cell_type": "code",
   "execution_count": null,
   "metadata": {},
   "outputs": [],
   "source": []
  },
  {
   "cell_type": "code",
   "execution_count": 11,
   "metadata": {},
   "outputs": [
    {
     "data": {
      "text/plain": [
       "5"
      ]
     },
     "execution_count": 11,
     "metadata": {},
     "output_type": "execute_result"
    }
   ],
   "source": [
    "def binary_search(array, target):\n",
    "    mid = len(array)//2\n",
    "    if array[mid] == target:\n",
    "        return target\n",
    "    if len(array) <= 1:\n",
    "        return \"Not found\"\n",
    "    if array[mid] < target:\n",
    "        right_half = array[mid:]\n",
    "        return binary_search(right_half, target)\n",
    "    if array[mid] > target:\n",
    "        left_half = array[:mid]\n",
    "        return binary_search(left_half, target)\n",
    "\n",
    "binary_search([1,2,3,4,5,6,7,8,9,10], 5)"
   ]
  },
  {
   "cell_type": "markdown",
   "metadata": {},
   "source": [
    "## Complexity Analysis for Binary Search.\n",
    "\n",
    "#### Fact\n",
    "\n",
    "* Binary search has **O(log n)/logarithmic** time complexity.\n",
    "\n",
    "#### Proof\n",
    "\n",
    "* For each recursion case, we are splitting the search space by half.\n",
    "* In the worst case, we have to split the search space until we are left with an subarray of size 1.\n",
    "* Say the original array size was 8, to get to a subarray 1, we need to split it 3 times.\n",
    "* **3 = log(n)** therefore the time complexity of **O(log n)**\n",
    "\n",
    "# END"
   ]
  }
 ],
 "metadata": {
  "kernelspec": {
   "display_name": "base",
   "language": "python",
   "name": "python3"
  },
  "language_info": {
   "codemirror_mode": {
    "name": "ipython",
    "version": 3
   },
   "file_extension": ".py",
   "mimetype": "text/x-python",
   "name": "python",
   "nbconvert_exporter": "python",
   "pygments_lexer": "ipython3",
   "version": "3.9.13"
  },
  "orig_nbformat": 4
 },
 "nbformat": 4,
 "nbformat_minor": 2
}
