{
 "cells": [
  {
   "cell_type": "markdown",
   "metadata": {},
   "source": [
    "# Hash Tables\n",
    "* A hash table, also known as a hash map, is a widely used data structure in which data is stored as a collection of key-value pairs, each key is unique within the hash table, and each key is associated with a corresponding value..\n",
    "\n",
    "* Hash tables are often used to implement associative arrays, sets, and various other data structures where fast lookups, insertions, and deletions are important.\n",
    "* Data is stored as a collection of key-value pairs, each key is unique within the hash table, and each key is associated with a corresponding value.\n",
    "* A **Python Dictionary** is the python specific implementation of a hash table.\n",
    "\n",
    "```python\n",
    "    hashmap = {\"name\": \"John Doe\", \"age\": 30}\n",
    "```"
   ]
  },
  {
   "cell_type": "markdown",
   "metadata": {},
   "source": [
    "### How Hash tables are work.\n",
    "* Each value in a hash table is stored in an array called a **Hash Array** or **Buckets**.\n",
    "\n",
    "* The size of this array is typically determined at the creation of the hash table and should be large enough to accommodate expected data.\n",
    "\n",
    "* The index position of the value is determined by the key associated with the value.\n",
    "\n",
    "* So, when an item is added to the hash table, the index is calculated by a function called a **hash function**.\n",
    "\n",
    "* The hash function returns the index of the value in the hash array."
   ]
  },
  {
   "cell_type": "markdown",
   "metadata": {},
   "source": [
    "### Implementing a Hash Table in Python.\n",
    "\n",
    "* Even though Hash Table is already implemented in Python in form of the dictionary, we can still implement our own Hash table from scratch."
   ]
  },
  {
   "cell_type": "code",
   "execution_count": 3,
   "metadata": {},
   "outputs": [],
   "source": [
    "# Hash table, without collision\n",
    "class HashTable:\n",
    "    \"\"\"\n",
    "        Hash Table\n",
    "    \"\"\"\n",
    "    def __init__(self):\n",
    "        self.MAX = 10\n",
    "        self.arr = [None for _ in range(self.MAX)]\n",
    "\n",
    "    def get_hash_key(self, key):\n",
    "        \"\"\"\n",
    "            Generate the hash key.\n",
    "            :param key: \n",
    "        \"\"\"\n",
    "        hash = 0\n",
    "        for i in key:\n",
    "            hash += ord(i)\n",
    "        return hash % self.MAX\n",
    "    \n",
    "    def __setitem__(self, key, value):\n",
    "        index = self.get_hash_key(key)\n",
    "        self.arr[index] = value\n",
    "\n",
    "    def __getitem__(self, key):\n",
    "        index = self.get_hash_key(key)\n",
    "        return self.arr[index]\n",
    "    \n",
    "    def __delitem__(self, key):\n",
    "        index = self.get_hash_key(key)\n",
    "        self.arr[index] = None"
   ]
  },
  {
   "cell_type": "code",
   "execution_count": 4,
   "metadata": {},
   "outputs": [],
   "source": [
    "## Show collision"
   ]
  },
  {
   "cell_type": "markdown",
   "metadata": {},
   "source": [
    "### Dealing with collisions in hash table.\n",
    "\n",
    "* Since hash functions may produce the same index for different keys (a collision), hash tables need a mechanism to handle collisions. \n",
    "* Common collision resolution techniques include \n",
    "    * **Chaining**.\n",
    "    * **Linear Probing**. \n",
    "* **Chaining** involves maintaining a linked list or other data structure in each bucket to handle multiple key-value pairs hashing to the same index. \n",
    "* In **Linear Probing** when a collision occurs at a hash index, you simply check the next slot (linearly) until you find an empty slot to insert the key-value pair.\n",
    "\n",
    "#### Let's implement collision handling with Chaining Method."
   ]
  },
  {
   "cell_type": "code",
   "execution_count": null,
   "metadata": {},
   "outputs": [],
   "source": []
  },
  {
   "cell_type": "code",
   "execution_count": 5,
   "metadata": {},
   "outputs": [],
   "source": [
    "# Hash table, with collision\n",
    "class HashTable:\n",
    "    def __init__(self):\n",
    "        self.MAX = 10\n",
    "        self.arr = [[] for _ in range(self.MAX)]\n",
    "\n",
    "    def get_hash_key(self, key):\n",
    "        hash = 0\n",
    "        for i in key:\n",
    "            hash += ord(i)\n",
    "        return hash % self.MAX\n",
    "    \n",
    "    def __setitem__(self, key, value):\n",
    "        hash_key = self.get_hash_key(key)\n",
    "        for idx, element in enumerate(self.arr[hash_key]):\n",
    "            if len(element) == 2 and element[0] == key:\n",
    "                self.arr[hash_key][idx] = (key, value)\n",
    "                return\n",
    "        self.arr[hash_key].append((key, value))\n",
    "        \n",
    "\n",
    "    def __getitem__(self, key):\n",
    "        hash_key = self.get_hash_key(key)\n",
    "        for element in self.arr[hash_key]:\n",
    "            if element[0] == key:\n",
    "                return element[1]\n",
    "        raise KeyError(f\"{key} not found\")\n",
    "    \n",
    "    def __delitem__(self, key):\n",
    "        hash_key = self.get_hash_key(key)\n",
    "        for idx, element in enumerate(self.arr[hash_key]):\n",
    "            if element[0] == key:\n",
    "                self.arr[hash_key].pop(idx)"
   ]
  },
  {
   "cell_type": "code",
   "execution_count": null,
   "metadata": {},
   "outputs": [],
   "source": []
  },
  {
   "cell_type": "markdown",
   "metadata": {},
   "source": [
    "### Complexity Analysis.\n",
    "\n",
    "* Look up a value by key - **O(1)**.\n",
    "* Deletion/Insertion - **O(1)**."
   ]
  },
  {
   "cell_type": "code",
   "execution_count": null,
   "metadata": {},
   "outputs": [],
   "source": []
  },
  {
   "cell_type": "markdown",
   "metadata": {},
   "source": [
    "# End"
   ]
  }
 ],
 "metadata": {
  "kernelspec": {
   "display_name": "base",
   "language": "python",
   "name": "python3"
  },
  "language_info": {
   "codemirror_mode": {
    "name": "ipython",
    "version": 3
   },
   "file_extension": ".py",
   "mimetype": "text/x-python",
   "name": "python",
   "nbconvert_exporter": "python",
   "pygments_lexer": "ipython3",
   "version": "3.9.13"
  },
  "orig_nbformat": 4
 },
 "nbformat": 4,
 "nbformat_minor": 2
}
