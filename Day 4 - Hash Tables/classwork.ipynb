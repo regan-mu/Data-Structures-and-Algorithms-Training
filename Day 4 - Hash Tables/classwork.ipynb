{
 "cells": [
  {
   "cell_type": "code",
   "execution_count": 6,
   "metadata": {},
   "outputs": [],
   "source": [
    "scores = {\"swahili\":88, \"english\":75, \"physics\": 90, \"programming\": 95, \"math\": 96}"
   ]
  },
  {
   "cell_type": "code",
   "execution_count": 9,
   "metadata": {},
   "outputs": [
    {
     "name": "stdout",
     "output_type": "stream",
     "text": [
      "None\n"
     ]
    }
   ],
   "source": [
    "def get_score(subject):\n",
    "    try:\n",
    "        score = scores[subject]\n",
    "    except:\n",
    "        return None\n",
    "    else:\n",
    "        return score\n",
    "scr = get_score(\"biology\")\n",
    "print(scr)"
   ]
  },
  {
   "cell_type": "code",
   "execution_count": 10,
   "metadata": {},
   "outputs": [],
   "source": [
    "hashmap = {\"name\": \"John Doe\", \"age\": 30}"
   ]
  },
  {
   "cell_type": "code",
   "execution_count": null,
   "metadata": {},
   "outputs": [],
   "source": []
  },
  {
   "cell_type": "code",
   "execution_count": 13,
   "metadata": {},
   "outputs": [],
   "source": [
    "def get_hash(string):\n",
    "    total = 0\n",
    "    for char in string:\n",
    "        ascii_val = ord(char)\n",
    "        total += ascii_val\n",
    "    mod = total % 10\n",
    "    return mod\n"
   ]
  },
  {
   "cell_type": "code",
   "execution_count": 51,
   "metadata": {},
   "outputs": [
    {
     "data": {
      "text/plain": [
       "6"
      ]
     },
     "execution_count": 51,
     "metadata": {},
     "output_type": "execute_result"
    }
   ],
   "source": [
    "get_hash(\"math\")"
   ]
  },
  {
   "cell_type": "code",
   "execution_count": 45,
   "metadata": {},
   "outputs": [],
   "source": [
    "class HashTable:\n",
    "    def __init__(self):\n",
    "        self.MAX = 10\n",
    "        self.hash_array = [None for _ in range(self.MAX)]\n",
    "\n",
    "    def get_hash(self, string):\n",
    "        total = 0\n",
    "        for char in string:\n",
    "            ascii_val = ord(char)\n",
    "            total += ascii_val\n",
    "        mod = total % self.MAX\n",
    "        return mod\n",
    "\n",
    "    def __setitem__(self, key, value):\n",
    "        idx = self.get_hash(key)\n",
    "        self.hash_array[idx] = value\n",
    "\n",
    "    def __getitem__(self, key):\n",
    "        idx = self.get_hash(key)\n",
    "        return self.hash_array[idx]\n",
    "    \n",
    "    def __delitem__(self, key):\n",
    "        idx = self.get_hash(key)\n",
    "        self.hash_array[idx] = None"
   ]
  },
  {
   "cell_type": "code",
   "execution_count": 46,
   "metadata": {},
   "outputs": [],
   "source": [
    "scores_table = HashTable()"
   ]
  },
  {
   "cell_type": "code",
   "execution_count": 55,
   "metadata": {},
   "outputs": [],
   "source": [
    "scores_table[\"math\"] = 96\n",
    "scores_table[\"physics\"] = 90\n",
    "scores_table[\"programming\"] = 95\n",
    "scores_table[\"swahili\"] = 88\n",
    "# scores_table[\"english\"] = 75"
   ]
  },
  {
   "cell_type": "code",
   "execution_count": 58,
   "metadata": {},
   "outputs": [
    {
     "data": {
      "text/plain": [
       "[None, 90, None, 88, None, None, 75, 95, None, None]"
      ]
     },
     "execution_count": 58,
     "metadata": {},
     "output_type": "execute_result"
    }
   ],
   "source": [
    "scores_table.hash_array"
   ]
  },
  {
   "cell_type": "code",
   "execution_count": 57,
   "metadata": {},
   "outputs": [],
   "source": [
    "scores_table[\"english\"] = 75"
   ]
  },
  {
   "cell_type": "code",
   "execution_count": 52,
   "metadata": {},
   "outputs": [
    {
     "data": {
      "text/plain": [
       "90"
      ]
     },
     "execution_count": 52,
     "metadata": {},
     "output_type": "execute_result"
    }
   ],
   "source": [
    "scores_table[\"physics\"]"
   ]
  },
  {
   "cell_type": "code",
   "execution_count": 53,
   "metadata": {},
   "outputs": [],
   "source": [
    "del scores_table[\"physics\"]"
   ]
  },
  {
   "cell_type": "code",
   "execution_count": 54,
   "metadata": {},
   "outputs": [
    {
     "data": {
      "text/plain": [
       "[None, None, None, 88, None, None, 75, 95, None, None]"
      ]
     },
     "execution_count": 54,
     "metadata": {},
     "output_type": "execute_result"
    }
   ],
   "source": [
    "scores_table.hash_array"
   ]
  },
  {
   "cell_type": "code",
   "execution_count": null,
   "metadata": {},
   "outputs": [],
   "source": []
  },
  {
   "cell_type": "code",
   "execution_count": 60,
   "metadata": {},
   "outputs": [],
   "source": [
    "class HashWithCollision:\n",
    "    def __init__(self):\n",
    "        self.MAX = 10\n",
    "        self.hash_array = [[] for _ in range(self.MAX)]\n",
    "\n",
    "    def get_hash(self, string):\n",
    "        total = 0\n",
    "        for char in string:\n",
    "            ascii_val = ord(char)\n",
    "            total += ascii_val\n",
    "        mod = total % self.MAX\n",
    "        return mod\n",
    "    \n",
    "    def __setitem__(self, key, value):\n",
    "        hash_key = self.get_hash(key)\n",
    "        subarray = self.hash_array[hash_key]\n",
    "        key_value = (key, value)\n",
    "        for idx, element in enumerate(subarray):\n",
    "            if len(element) == 2 and element[0] == key:\n",
    "                self.hash_array[hash_key][idx] = key_value\n",
    "                return\n",
    "        self.hash_array[hash_key].append(key_value)\n",
    "\n",
    "    def __getitem__(self, key):\n",
    "        hash_key = self.get_hash(key)\n",
    "        for element in self.hash_array[hash_key]:\n",
    "            if element[0] == key:\n",
    "                return element[1]\n",
    "        raise KeyError(f\"{key} not found\")\n",
    "    \n",
    "    def __delitem__(self, key):\n",
    "        hash_key = self.get_hash(key)\n",
    "        for idx, element in enumerate(self.hash_array[hash_key]):\n",
    "            if element[0] == key:\n",
    "                self.hash_array[hash_key].pop(idx)"
   ]
  },
  {
   "cell_type": "code",
   "execution_count": 61,
   "metadata": {},
   "outputs": [],
   "source": [
    "hash = HashWithCollision()\n",
    "hash[\"math\"] = 96\n",
    "hash[\"physics\"] = 90\n",
    "hash[\"programming\"] = 95\n",
    "hash[\"swahili\"] = 88\n",
    "hash[\"english\"] = 75"
   ]
  },
  {
   "cell_type": "code",
   "execution_count": 62,
   "metadata": {},
   "outputs": [
    {
     "data": {
      "text/plain": [
       "[[],\n",
       " [('physics', 90)],\n",
       " [],\n",
       " [('swahili', 88)],\n",
       " [],\n",
       " [],\n",
       " [('math', 96), ('english', 75)],\n",
       " [('programming', 95)],\n",
       " [],\n",
       " []]"
      ]
     },
     "execution_count": 62,
     "metadata": {},
     "output_type": "execute_result"
    }
   ],
   "source": [
    "hash.hash_array"
   ]
  },
  {
   "cell_type": "code",
   "execution_count": 63,
   "metadata": {},
   "outputs": [],
   "source": [
    "hash[\"english\"] = 80"
   ]
  },
  {
   "cell_type": "code",
   "execution_count": 64,
   "metadata": {},
   "outputs": [
    {
     "data": {
      "text/plain": [
       "[[],\n",
       " [('physics', 90)],\n",
       " [],\n",
       " [('swahili', 88)],\n",
       " [],\n",
       " [],\n",
       " [('math', 96), ('english', 80)],\n",
       " [('programming', 95)],\n",
       " [],\n",
       " []]"
      ]
     },
     "execution_count": 64,
     "metadata": {},
     "output_type": "execute_result"
    }
   ],
   "source": [
    "hash.hash_array"
   ]
  },
  {
   "cell_type": "code",
   "execution_count": null,
   "metadata": {},
   "outputs": [],
   "source": []
  }
 ],
 "metadata": {
  "kernelspec": {
   "display_name": "base",
   "language": "python",
   "name": "python3"
  },
  "language_info": {
   "codemirror_mode": {
    "name": "ipython",
    "version": 3
   },
   "file_extension": ".py",
   "mimetype": "text/x-python",
   "name": "python",
   "nbconvert_exporter": "python",
   "pygments_lexer": "ipython3",
   "version": "3.9.13"
  },
  "orig_nbformat": 4
 },
 "nbformat": 4,
 "nbformat_minor": 2
}
