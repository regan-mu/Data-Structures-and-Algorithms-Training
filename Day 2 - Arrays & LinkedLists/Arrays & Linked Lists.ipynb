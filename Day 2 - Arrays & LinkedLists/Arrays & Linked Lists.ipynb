{
 "cells": [
  {
   "cell_type": "markdown",
   "metadata": {},
   "source": [
    "# Arrays and Linked Lists.\n",
    "\n",
    "## 1. Arrays.\n",
    "\n",
    "* An arrays is a linear data structure that stores a collection of elements, typically of the same data type, in a contiguous block of memory.\n",
    "* Each element in the array is identified by an index or position, which starts at zero for the first element and increases sequentially.\n",
    "* An array is also called a list in Python.\n",
    "```python\n",
    "    numbers = [25, 30, 44, 17]\n",
    "```\n",
    "* This is how the array the array above is stored in your computer memory.\n",
    "\n",
    "![array](./images/array.png)"
   ]
  },
  {
   "cell_type": "markdown",
   "metadata": {},
   "source": []
  },
  {
   "cell_type": "markdown",
   "metadata": {},
   "source": [
    "* An issue often arises with arrays when dealing with their dynamic growth. \n",
    "* Since arrays are stored contiguously in memory, as you continue adding elements to the array, the allocated memory may become full.\n",
    "\n",
    "![arrays](./images/array-blocked.png)\n"
   ]
  },
  {
   "cell_type": "markdown",
   "metadata": {},
   "source": []
  },
  {
   "cell_type": "markdown",
   "metadata": {},
   "source": [
    "* When this happens, you computer needs to find an empty memory location allocate space and copy the array to the new location.\n",
    "* This process might have some overheads especially when you have a very large array.\n",
    "\n",
    "![arrays](./images/array-resize.png)\n"
   ]
  },
  {
   "cell_type": "markdown",
   "metadata": {},
   "source": []
  },
  {
   "cell_type": "markdown",
   "metadata": {},
   "source": [
    "### Array Complexity Analysis.\n",
    "* Finding element  by index - **O(1)**.\n",
    "* Searching element by value - **O(n)**.\n",
    "* Appending to the end - **amortized  O(1)**.\n",
    "* Inserting an element at start?"
   ]
  },
  {
   "cell_type": "code",
   "execution_count": 1,
   "metadata": {},
   "outputs": [
    {
     "data": {
      "text/plain": [
       "44"
      ]
     },
     "execution_count": 1,
     "metadata": {},
     "output_type": "execute_result"
    }
   ],
   "source": [
    "numbers = [17, 25, 30, 44]\n",
    "\n",
    "def search_target(array, target):\n",
    "    for n in array:\n",
    "        if n == target:\n",
    "            return n\n",
    "search_target(numbers, 17)"
   ]
  },
  {
   "cell_type": "markdown",
   "metadata": {},
   "source": []
  },
  {
   "cell_type": "markdown",
   "metadata": {},
   "source": [
    "## 2. Linked Lists.\n",
    "\n",
    "* A linked list is a linear data structure in computer science consisting of a sequence of elements, where each element is called a **\"node\"**. \n",
    "\n",
    "* Unlike arrays, linked lists do not store elements in contiguous memory locations; instead, they use pointers or references to connect nodes, forming a chain-like structure.\n",
    "* The principal benefit of a linked list over a conventional array is that the list elements can easily be inserted or removed without reallocation of any other elements.\n",
    "* A **head node** is the first node in the list, a **tail node** is the last node in the list. The tail node always points to **Null**.\n",
    "\n",
    "![linked-list](./images/linked-list.png)\n",
    "\n",
    "#### Types of Linked Lists.\n",
    "* **Singly linked list** - Each node contains a pointer to the next node in the chain.\n",
    "* **Doubly linked list** - Each node's has two pointers, one pointing to the next node and the other to the previous node.\n",
    "* **Circular linked list** - The last node of the list points back to the first node, forming a closed loop."
   ]
  },
  {
   "cell_type": "markdown",
   "metadata": {},
   "source": [
    "### Implementation of a linked list in Python."
   ]
  },
  {
   "cell_type": "code",
   "execution_count": 2,
   "metadata": {},
   "outputs": [
    {
     "name": "stdout",
     "output_type": "stream",
     "text": [
      "113 ----> 77 ----> 50 ----> 100 ----> 29 ----> 45 ----> NULL\n"
     ]
    }
   ],
   "source": [
    "# LINKED LIST\n",
    "class ListNode:\n",
    "    \"\"\"\n",
    "        Linked List Node.\n",
    "    \"\"\"\n",
    "    def __init__(self, data, next=None):\n",
    "        self.data = data\n",
    "        self.next = next\n",
    "\n",
    "class LinkedList:\n",
    "    \"\"\"\n",
    "        Linked List implementation with Python.\n",
    "    \"\"\"\n",
    "    def __init__(self):\n",
    "        self.head = None\n",
    "\n",
    "    def append_at_beginning(self, data):\n",
    "        \"\"\"\n",
    "            Insert an item into the beginning of the list.\n",
    "            :param data: The item to insert.\n",
    "            :return: None.\n",
    "        \"\"\"\n",
    "        node = ListNode(data, self.head)\n",
    "        self.head = node\n",
    "\n",
    "    def append_at_end(self, data):\n",
    "        \"\"\"\n",
    "            Insert an item into the end of the list.\n",
    "            :param data: The item to insert.\n",
    "            :return: None.\n",
    "        \"\"\"\n",
    "        node = ListNode(data)\n",
    "        if self.head == None:\n",
    "            self.head = node\n",
    "            return\n",
    "        iterator = self.head\n",
    "        while iterator:\n",
    "            if iterator.next == None:\n",
    "                iterator.next = node\n",
    "                break\n",
    "            iterator = iterator.next\n",
    "\n",
    "    def list_length(self):\n",
    "        \"\"\"\n",
    "            Get the length of the linked list.\n",
    "            :return: Length of list.\n",
    "        \"\"\"\n",
    "        iterator = self.head\n",
    "        counter = 0\n",
    "        if self.head != None:\n",
    "            while iterator:\n",
    "                counter += 1\n",
    "                iterator = iterator.next\n",
    "        return counter\n",
    "    \n",
    "    def remove(self, index):\n",
    "        \"\"\"\n",
    "            Remove the node at the given index.\n",
    "            :param index: Index of the node to remove.\n",
    "            :return: None.\n",
    "        \"\"\"\n",
    "        iterator = self.head\n",
    "        prev = None\n",
    "        if index >= self.list_length() or index < 0:\n",
    "            raise IndexError(\"Index out of range\")\n",
    "        if index == 0:\n",
    "            self.head = self.head.next\n",
    "            return\n",
    "        for _ in range(index):\n",
    "            prev = iterator\n",
    "            iterator = iterator.next\n",
    "        prev.next = iterator.next\n",
    "\n",
    "    def insert_at(self, index, data):\n",
    "        \"\"\"\n",
    "            Insert an item at the provided index.\n",
    "            :param index: Index where to insert.\n",
    "            :param data: The item to insert.\n",
    "            :return: None.\n",
    "        \"\"\"\n",
    "        if index < 0 or index > self.list_length():\n",
    "            raise Exception(\"Invalid index\")\n",
    "        if self.list_length() == 0:\n",
    "            self.append_at_beginning(data)\n",
    "            return\n",
    "        node = ListNode(data=data)\n",
    "        iterator = self.head\n",
    "        prev = None\n",
    "        if index == 0:\n",
    "            node.next = self.head\n",
    "            self.head = node\n",
    "            return\n",
    "        for _ in range(index):\n",
    "            prev = iterator\n",
    "            iterator = iterator.next\n",
    "        prev.next = node\n",
    "        node.next = iterator\n",
    "\n",
    "    def print_list(self):\n",
    "        if self.head == None:\n",
    "            print(\"Empty List\")\n",
    "            return\n",
    "        iterator = self.head\n",
    "        text = \"\"\n",
    "        while iterator:\n",
    "            text += f\"{iterator.data} ----> \"\n",
    "            iterator = iterator.next\n",
    "        print(f\"{text}NULL\")\n",
    "linked = LinkedList()\n",
    "linked.append_at_beginning(100)\n",
    "linked.append_at_beginning(50)\n",
    "linked.append_at_beginning(77)\n",
    "linked.append_at_beginning(113)\n",
    "linked.append_at_end(29)\n",
    "linked.append_at_end(45)\n",
    "linked.print_list()"
   ]
  },
  {
   "cell_type": "markdown",
   "metadata": {},
   "source": []
  },
  {
   "cell_type": "markdown",
   "metadata": {},
   "source": [
    "### Complexity Analysis\n",
    "* Insertion/Deletion at the Beginning (prepend): **O(1)**.\n",
    "* Insertion/Deletion at the End (append): **O(n)**.\n",
    "* Insertion/Deletion at a Specific Position (after a given node): **O(n)**.\n",
    "* Searching for an Element: **O(n)**.\n",
    "* Traversing the Entire List: **O(n)**."
   ]
  },
  {
   "cell_type": "markdown",
   "metadata": {},
   "source": []
  },
  {
   "cell_type": "markdown",
   "metadata": {},
   "source": [
    "###     \"Choosing the right data structure for your program is like selecting the right tool for the job; it can make the difference between a masterpiece and a struggle.\"\n",
    "\n",
    "\n",
    "# END"
   ]
  }
 ],
 "metadata": {
  "kernelspec": {
   "display_name": "base",
   "language": "python",
   "name": "python3"
  },
  "language_info": {
   "codemirror_mode": {
    "name": "ipython",
    "version": 3
   },
   "file_extension": ".py",
   "mimetype": "text/x-python",
   "name": "python",
   "nbconvert_exporter": "python",
   "pygments_lexer": "ipython3",
   "version": "3.9.13"
  },
  "orig_nbformat": 4
 },
 "nbformat": 4,
 "nbformat_minor": 2
}
