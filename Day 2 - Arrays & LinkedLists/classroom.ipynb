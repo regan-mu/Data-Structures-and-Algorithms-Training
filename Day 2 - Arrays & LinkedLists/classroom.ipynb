{
 "cells": [
  {
   "cell_type": "code",
   "execution_count": 24,
   "metadata": {},
   "outputs": [],
   "source": [
    "class ListNode:\n",
    "    def __init__(self, data):\n",
    "        self.data = data\n",
    "        self.next = None\n",
    "\n",
    "class LinkedList:\n",
    "    def __init__(self):\n",
    "        self.head = None\n",
    "\n",
    "    def add_at_start(self, data):\n",
    "        node = ListNode(data)\n",
    "        node.next = self.head\n",
    "        self.head = node\n",
    "\n",
    "    def append_to_end(self, data):\n",
    "        node = ListNode(data)\n",
    "        iterator = self.head\n",
    "        while iterator:\n",
    "            if iterator.next == None:\n",
    "                iterator.next = node\n",
    "                break\n",
    "            iterator = iterator.next\n",
    "\n",
    "    def remove_at_index(self, idx):\n",
    "        iterator = self.head\n",
    "        prev = None\n",
    "        if idx >= self.list_size() or idx < 0:\n",
    "            raise IndexError(\"Index out of range\")\n",
    "        if idx == 0:\n",
    "            self.head = self.head.next\n",
    "            return\n",
    "\n",
    "        for _ in range(idx):\n",
    "            prev = iterator\n",
    "            iterator = iterator.next\n",
    "\n",
    "        prev.next = iterator.next\n",
    "\n",
    "\n",
    "    def list_size(self):\n",
    "        size = 0\n",
    "        iterator = self.head\n",
    "        while iterator:\n",
    "            size += 1\n",
    "            iterator = iterator.next\n",
    "        return size\n",
    "\n",
    "    def print_list(self):\n",
    "        if self.head == None:\n",
    "            print(\"Empty List\")\n",
    "            return\n",
    "        iterator = self.head\n",
    "        text = \"\"\n",
    "        while iterator:\n",
    "            data = iterator.data\n",
    "            text += f\"{data} ----> \"\n",
    "            iterator = iterator.next\n",
    "        print(f\"{text} NULL\")\n"
   ]
  },
  {
   "cell_type": "code",
   "execution_count": 25,
   "metadata": {},
   "outputs": [
    {
     "name": "stdout",
     "output_type": "stream",
     "text": [
      "113 ----> 77 ----> 50 ----> 100 ----> 29 ----> 45 ----> 12 ---->  NULL\n"
     ]
    }
   ],
   "source": [
    "linked = LinkedList()\n",
    "linked.add_at_start(100)\n",
    "linked.add_at_start(50)\n",
    "linked.add_at_start(77)\n",
    "linked.add_at_start(113)\n",
    "linked.append_to_end(29)\n",
    "linked.append_to_end(45)\n",
    "linked.append_to_end(12)\n",
    "linked.print_list()"
   ]
  },
  {
   "cell_type": "code",
   "execution_count": 26,
   "metadata": {},
   "outputs": [
    {
     "data": {
      "text/plain": [
       "7"
      ]
     },
     "execution_count": 26,
     "metadata": {},
     "output_type": "execute_result"
    }
   ],
   "source": [
    "linked.list_size()"
   ]
  },
  {
   "cell_type": "code",
   "execution_count": 30,
   "metadata": {},
   "outputs": [
    {
     "ename": "IndexError",
     "evalue": "Index out of range",
     "output_type": "error",
     "traceback": [
      "\u001b[1;31m---------------------------------------------------------------------------\u001b[0m",
      "\u001b[1;31mIndexError\u001b[0m                                Traceback (most recent call last)",
      "\u001b[1;32m~\\AppData\\Local\\Temp\\ipykernel_19856\\2588445893.py\u001b[0m in \u001b[0;36m<module>\u001b[1;34m\u001b[0m\n\u001b[1;32m----> 1\u001b[1;33m \u001b[0mlinked\u001b[0m\u001b[1;33m.\u001b[0m\u001b[0mremove_at_index\u001b[0m\u001b[1;33m(\u001b[0m\u001b[1;36m5\u001b[0m\u001b[1;33m)\u001b[0m\u001b[1;33m\u001b[0m\u001b[1;33m\u001b[0m\u001b[0m\n\u001b[0m",
      "\u001b[1;32m~\\AppData\\Local\\Temp\\ipykernel_19856\\1479065570.py\u001b[0m in \u001b[0;36mremove_at_index\u001b[1;34m(self, idx)\u001b[0m\n\u001b[0;32m     26\u001b[0m         \u001b[0mprev\u001b[0m \u001b[1;33m=\u001b[0m \u001b[1;32mNone\u001b[0m\u001b[1;33m\u001b[0m\u001b[1;33m\u001b[0m\u001b[0m\n\u001b[0;32m     27\u001b[0m         \u001b[1;32mif\u001b[0m \u001b[0midx\u001b[0m \u001b[1;33m>=\u001b[0m \u001b[0mself\u001b[0m\u001b[1;33m.\u001b[0m\u001b[0mlist_size\u001b[0m\u001b[1;33m(\u001b[0m\u001b[1;33m)\u001b[0m \u001b[1;32mor\u001b[0m \u001b[0midx\u001b[0m \u001b[1;33m<\u001b[0m \u001b[1;36m0\u001b[0m\u001b[1;33m:\u001b[0m\u001b[1;33m\u001b[0m\u001b[1;33m\u001b[0m\u001b[0m\n\u001b[1;32m---> 28\u001b[1;33m             \u001b[1;32mraise\u001b[0m \u001b[0mIndexError\u001b[0m\u001b[1;33m(\u001b[0m\u001b[1;34m\"Index out of range\"\u001b[0m\u001b[1;33m)\u001b[0m\u001b[1;33m\u001b[0m\u001b[1;33m\u001b[0m\u001b[0m\n\u001b[0m\u001b[0;32m     29\u001b[0m         \u001b[1;32mif\u001b[0m \u001b[0midx\u001b[0m \u001b[1;33m==\u001b[0m \u001b[1;36m0\u001b[0m\u001b[1;33m:\u001b[0m\u001b[1;33m\u001b[0m\u001b[1;33m\u001b[0m\u001b[0m\n\u001b[0;32m     30\u001b[0m             \u001b[0mself\u001b[0m\u001b[1;33m.\u001b[0m\u001b[0mhead\u001b[0m \u001b[1;33m=\u001b[0m \u001b[0mself\u001b[0m\u001b[1;33m.\u001b[0m\u001b[0mhead\u001b[0m\u001b[1;33m.\u001b[0m\u001b[0mnext\u001b[0m\u001b[1;33m\u001b[0m\u001b[1;33m\u001b[0m\u001b[0m\n",
      "\u001b[1;31mIndexError\u001b[0m: Index out of range"
     ]
    }
   ],
   "source": [
    "linked.remove_at_index(5)"
   ]
  },
  {
   "cell_type": "code",
   "execution_count": 29,
   "metadata": {},
   "outputs": [
    {
     "name": "stdout",
     "output_type": "stream",
     "text": [
      "77 ----> 50 ----> 100 ----> 29 ----> 45 ---->  NULL\n"
     ]
    }
   ],
   "source": [
    "linked.print_list()"
   ]
  },
  {
   "cell_type": "code",
   "execution_count": null,
   "metadata": {},
   "outputs": [],
   "source": []
  }
 ],
 "metadata": {
  "kernelspec": {
   "display_name": "base",
   "language": "python",
   "name": "python3"
  },
  "language_info": {
   "codemirror_mode": {
    "name": "ipython",
    "version": 3
   },
   "file_extension": ".py",
   "mimetype": "text/x-python",
   "name": "python",
   "nbconvert_exporter": "python",
   "pygments_lexer": "ipython3",
   "version": "3.9.13"
  },
  "orig_nbformat": 4
 },
 "nbformat": 4,
 "nbformat_minor": 2
}
